{
 "cells": [
  {
   "cell_type": "markdown",
   "metadata": {},
   "source": [
    "# Create grid and use batch to request data"
   ]
  },
  {
   "cell_type": "code",
   "execution_count": 1,
   "metadata": {},
   "outputs": [],
   "source": [
    "from collections import defaultdict\n",
    "\n",
    "import geopandas as gpd\n",
    "from oauthlib.oauth2 import BackendApplicationClient\n",
    "from requests_oauthlib import OAuth2Session\n",
    "\n",
    "from eogrow.utils.fs import LocalFile\n",
    "from eolearn.core.utils.fs import get_filesystem\n",
    "from sentinelhub import CRS, BBox, DataCollection, MimeType, SentinelHubRequest, SHConfig, UtmGridSplitter"
   ]
  },
  {
   "cell_type": "code",
   "execution_count": 2,
   "metadata": {},
   "outputs": [],
   "source": [
    "import os\n",
    "os.environ[\"AWS_PROFILE\"] = \"batch\""
   ]
  },
  {
   "cell_type": "code",
   "execution_count": 4,
   "metadata": {},
   "outputs": [],
   "source": [
    "# in meters\n",
    "BBOX_SIZE = 5000\n",
    "RESOLUTION = 10.0\n",
    "\n",
    "BUCKET_PATH = \"s3://batch-slo-24/input-data/\"\n",
    "GRID_FILENAME = \"grid_slovenia_border_UTM33N_500x500.gpkg\""
   ]
  },
  {
   "cell_type": "code",
   "execution_count": null,
   "metadata": {},
   "outputs": [],
   "source": [
    "aoi = gpd.read_file('cache/area_slovenia_border_UTM33N_BatchAreaManager_0.2_0.004.gpkg')\n",
    "aoi.boundary.plot(color=\"red\", linewidth=2)"
   ]
  },
  {
   "cell_type": "code",
   "execution_count": 38,
   "metadata": {},
   "outputs": [],
   "source": [
    "splitter = UtmGridSplitter([aoi.to_crs(\"EPSG:4326\").geometry.values[0]], CRS.WGS84, BBOX_SIZE)\n",
    "bboxes = splitter.get_bbox_list() # buffer=(BBOX_OVERLAP / (BBOX_SIZE)))"
   ]
  },
  {
   "cell_type": "code",
   "execution_count": 39,
   "metadata": {},
   "outputs": [],
   "source": [
    "splitter = UtmGridSplitter([aoi.geometry.values[0]], aoi.crs, BBOX_SIZE)\n",
    "bboxes = splitter.get_bbox_list() # buffer=(BBOX_OVERLAP / (BBOX_SIZE)))"
   ]
  },
  {
   "cell_type": "code",
   "execution_count": null,
   "metadata": {},
   "outputs": [],
   "source": [
    "bboxes_dict = defaultdict(list)\n",
    "\n",
    "for bbox in bboxes:\n",
    "    bboxes_dict[bbox.crs.epsg].append(bbox)\n",
    "\n",
    "for k, v in bboxes_dict.items():\n",
    "    print(f\"EPSG:{k} - {len(v)}\")"
   ]
  },
  {
   "cell_type": "code",
   "execution_count": 44,
   "metadata": {},
   "outputs": [],
   "source": [
    "grid_list = []\n",
    "n_total = 0\n",
    "\n",
    "for crs, bboxes in bboxes_dict.items():\n",
    "    utm_grid = gpd.GeoDataFrame(geometry=[bbox.geometry for bbox in bboxes], crs=crs)\n",
    "    utm_grid[\"id\"] = n_total + utm_grid.index\n",
    "    utm_grid[\"identifier\"] = utm_grid['id'].apply(lambda x: f\"tile_{x}\")\n",
    "    utm_grid[\"width\"] = BBOX_SIZE // RESOLUTION\n",
    "    utm_grid[\"height\"] = utm_grid[\"width\"]\n",
    "    utm_grid[\"resolution\"] = RESOLUTION\n",
    "\n",
    "    grid_list.append(utm_grid)\n",
    "    n_total += len(utm_grid)"
   ]
  },
  {
   "cell_type": "code",
   "execution_count": null,
   "metadata": {},
   "outputs": [],
   "source": [
    "for idx, grid in enumerate(grid_list):\n",
    "    grid.to_file(GRID_FILENAME, layer=idx, driver=\"GPKG\")\n",
    "\n",
    "!aws s3 cp {GRID_FILENAME} {BUCKET_PATH}"
   ]
  },
  {
   "cell_type": "code",
   "execution_count": 5,
   "metadata": {},
   "outputs": [],
   "source": [
    "# Load grid file\n",
    "grid = gpd.read_file(GRID_FILENAME, driver=\"GPKG\")"
   ]
  },
  {
   "cell_type": "markdown",
   "metadata": {},
   "source": [
    "## Batch V2 request"
   ]
  },
  {
   "cell_type": "code",
   "execution_count": 6,
   "metadata": {},
   "outputs": [],
   "source": [
    "config = SHConfig()\n",
    "#config.instance_id = ''\n",
    "#config.sh_client_id = ''\n",
    "#config.sh_client_secret = ''"
   ]
  },
  {
   "cell_type": "code",
   "execution_count": 31,
   "metadata": {},
   "outputs": [],
   "source": [
    "client = BackendApplicationClient(client_id=config.sh_client_id)\n",
    "oauth = OAuth2Session(client=client)\n",
    "\n",
    "# Get token for the session\n",
    "token = oauth.fetch_token(\n",
    "    token_url=\"https://services.sentinel-hub.com/auth/realms/main/protocol/openid-connect/token\",\n",
    "    client_secret=config.sh_client_secret,\n",
    "    include_client_id=True,\n",
    ")"
   ]
  },
  {
   "cell_type": "code",
   "execution_count": 8,
   "metadata": {},
   "outputs": [],
   "source": [
    "#config.save(\"travniki\")\n",
    "config = SHConfig(\"travniki\")"
   ]
  },
  {
   "cell_type": "code",
   "execution_count": 9,
   "metadata": {},
   "outputs": [],
   "source": [
    "url_batch_v2 = \"https://services.sentinel-hub.com/api/v2/batch/process\"\n",
    "data_collection = DataCollection.SENTINEL2_L2A"
   ]
  },
  {
   "cell_type": "code",
   "execution_count": 10,
   "metadata": {},
   "outputs": [],
   "source": [
    "with open(\"config/signals/sentinel2_l2a/evalscript.js\") as fp:\n",
    "    evalscript = fp.read()"
   ]
  },
  {
   "cell_type": "code",
   "execution_count": 11,
   "metadata": {},
   "outputs": [],
   "source": [
    "import calendar\n",
    "\n",
    "def get_month_range(year, month):\n",
    "  \"\"\"\n",
    "  Returns a tuple containing the start and end dates for the given month as strings.\n",
    "\n",
    "  Args:\n",
    "    year: The year (e.g., 2024).\n",
    "    month: The month (1-12).\n",
    "\n",
    "  Returns:\n",
    "    A tuple of strings: (start_date, end_date), where the dates are in 'YYYY-MM-DD' format.\n",
    "  \"\"\"\n",
    "\n",
    "  # Get the number of days in the month\n",
    "  _, num_days = calendar.monthrange(year, month)\n",
    "\n",
    "  start_date = f\"{year}-{month:02d}-01\"\n",
    "  end_date = f\"{year}-{month:02d}-{num_days:02d}\"\n",
    "\n",
    "  return (start_date, end_date)"
   ]
  },
  {
   "cell_type": "code",
   "execution_count": 21,
   "metadata": {},
   "outputs": [],
   "source": [
    "month = 12"
   ]
  },
  {
   "cell_type": "code",
   "execution_count": 22,
   "metadata": {},
   "outputs": [],
   "source": [
    "# data_bands = [\"blue\", \"green\", \"red\", \"nir\", \"alpha\"]\n",
    "data_bands = [band.name for band in data_collection.bands]\n",
    "#qa_bands = [\"clear\", \"snow\", \"shadow\", \"haze_light\", \"haze_heavy\", \"cloud\", \"confidence\", \"udm\", \"dataMask\"]\n",
    "qa_bands = [\"dataMask\", \"CLP\", \"CLM\"] # how to get OUT_PROBA?\n",
    "\n",
    "responses = [SentinelHubRequest.output_response(band, MimeType.TIFF) for band in data_bands + qa_bands]\n",
    "responses.append(SentinelHubRequest.output_response(\"userdata\", MimeType.JSON))\n",
    "\n",
    "sh_req = SentinelHubRequest(\n",
    "    evalscript=evalscript,\n",
    "    input_data=[\n",
    "        SentinelHubRequest.input_data(\n",
    "            data_collection=data_collection,\n",
    "            time_interval=(get_month_range(2024, month)), #f\"2024-{month:02d}-01\", f\"2024-{month:02d}-05\"), \n",
    "            #upsampling=\"BICUBIC\",\n",
    "            #downsampling=\"BICUBIC\",\n",
    "        )\n",
    "    ],\n",
    "    responses=responses,\n",
    "    bbox=BBox(grid.unary_union.bounds, crs=grid.crs),\n",
    "    #resolution=(RESOLUTION, RESOLUTION),\n",
    "    #bbox=BBox(grid.iloc[0].geometry.bounds, crs=grid.crs),  # test\n",
    "    #size=(200, 200),  # test\n",
    "    resolution=(10, 10),\n",
    "    config=config,\n",
    ")"
   ]
  },
  {
   "cell_type": "code",
   "execution_count": 23,
   "metadata": {},
   "outputs": [],
   "source": [
    "request_dict = sh_req.download_list[0].post_values\n",
    "\n",
    "# resx/y are taken from the geopackage and should not be part of the processRequest\n",
    "del request_dict[\"output\"][\"resx\"]\n",
    "del request_dict[\"output\"][\"resy\"]\n",
    "# processRequest.output must not specify width, height, nor resolution.\n",
    "#del request_dict[\"output\"][\"width\"]\n",
    "#del request_dict[\"output\"][\"height\"]"
   ]
  },
  {
   "cell_type": "code",
   "execution_count": 24,
   "metadata": {},
   "outputs": [],
   "source": [
    "batch_payload = {\n",
    "    \"processRequest\": request_dict,\n",
    "    \"input\": {\n",
    "        \"type\": \"geopackage\",\n",
    "        \"features\": {\n",
    "            \"s3\": {\n",
    "                \"url\": f\"s3://batch-slo-24/input-data/{GRID_FILENAME}\",\n",
    "                \"iamRoleARN\": \"arn:aws:iam::621520595318:role/batch-role\",\n",
    "                \"region\": \"eu-west-1\"\n",
    "            }\n",
    "        },\n",
    "    },\n",
    "    \"output\": {\n",
    "        \"type\": \"raster\",\n",
    "        \"delivery\": {\n",
    "            \"s3\": {\n",
    "                \"url\": f\"s3://batch-slo-24/tiffs/2024-{month:02d}/<tileName>/<outputId>.<format>\",\n",
    "                \"iamRoleARN\": \"arn:aws:iam::621520595318:role/batch-role\",\n",
    "                \"region\": \"eu-west-1\"\n",
    "            }\n",
    "        },\n",
    "    },\n",
    "    \"description\": f\"Travniki-2024-{month:02d} Basemaps\",\n",
    "}"
   ]
  },
  {
   "cell_type": "code",
   "execution_count": 25,
   "metadata": {},
   "outputs": [],
   "source": [
    "# create the batch request\n",
    "headers = {\"Content-Type\": \"application/json\"}\n",
    "response = oauth.request(\"POST\", url_batch_v2, headers=headers, json=batch_payload)\n",
    "response.raise_for_status()"
   ]
  },
  {
   "cell_type": "code",
   "execution_count": null,
   "metadata": {},
   "outputs": [],
   "source": [
    "batch_request_id = response.json()[\"id\"]\n",
    "batch_request_id"
   ]
  },
  {
   "cell_type": "code",
   "execution_count": null,
   "metadata": {},
   "outputs": [],
   "source": [
    "# start the batch process\n",
    "response = oauth.request(\"POST\", f\"{url_batch_v2}/{batch_request_id}/start\")\n",
    "response.status_code"
   ]
  },
  {
   "cell_type": "code",
   "execution_count": null,
   "metadata": {},
   "outputs": [],
   "source": [
    "# check the status of the batch request\n",
    "response = oauth.request(\"GET\", f\"{url_batch_v2}/{batch_request_id}\")\n",
    "response.json()[\"status\"]"
   ]
  },
  {
   "cell_type": "code",
   "execution_count": null,
   "metadata": {},
   "outputs": [],
   "source": [
    "response.text"
   ]
  },
  {
   "cell_type": "markdown",
   "metadata": {},
   "source": [
    "## Check results"
   ]
  },
  {
   "cell_type": "code",
   "execution_count": 32,
   "metadata": {},
   "outputs": [],
   "source": [
    "# month = 6\n",
    "\n",
    "batch_requests = {\n",
    "    1: 'c3a860c4-ffbb-49f0-8948-ab768629ffd2',\n",
    "    5:'c0c03557-b220-42f3-ac05-deb21a36ad20', # may\n",
    "    6:'a5c1928f-6fb4-4a59-a7dc-da9eee5d94fa', #b8b99012-fd61-433b-ad9b-a4c7bd34b035', # june 355cb8b5-8d4b-4c45-8766-91235af2959f\n",
    "    #6: \"24564414-63f8-425d-ac75-badb224fe4b5\",  # june\n",
    "    7: \"7795443e-8f0b-4b24-834d-90afee24c54b\",  # july\n",
    "}\n",
    "\n",
    "batch_request_id = batch_requests[month]"
   ]
  },
  {
   "cell_type": "code",
   "execution_count": null,
   "metadata": {},
   "outputs": [],
   "source": [
    "fs_shai = get_filesystem(\"s3://batch-slo-24/\")\n",
    "tiles_down = [tn for tn in fs_shai.listdir(f\"tiffs/2024-{month:02d}\") if \"tile_\" in tn]\n",
    "len(tiles_down)"
   ]
  },
  {
   "cell_type": "code",
   "execution_count": null,
   "metadata": {},
   "outputs": [],
   "source": [
    "utm_zones = list(bboxes_dict.keys())\n",
    "\n",
    "feat_manifest = []\n",
    "with LocalFile(f\"tiffs/2024-{month:02d}/featureManifest-{batch_request_id}.gpkg\", mode=\"r\", filesystem=fs_shai) as f:\n",
    "    for utmz in utm_zones:\n",
    "        feat_manifest.append(gpd.read_file(f.path, layer=f\"feature_{utmz}\"))"
   ]
  },
  {
   "cell_type": "code",
   "execution_count": null,
   "metadata": {},
   "outputs": [],
   "source": [
    "# sum all unique identifiers from all feature manifest layers\n",
    "sum([len(set(fm.identifier.drop_duplicates().tolist())) for fm in feat_manifest])"
   ]
  },
  {
   "cell_type": "code",
   "execution_count": 45,
   "metadata": {},
   "outputs": [],
   "source": [
    "# check if all identifiers across all layers are unique or if any are missing\n",
    "assert len({idn for fm in feat_manifest for idn in fm.identifier.drop_duplicates().tolist()}) == n_total"
   ]
  }
 ],
 "metadata": {
  "kernelspec": {
   "display_name": "eogrow",
   "language": "python",
   "name": "python3"
  },
  "language_info": {
   "codemirror_mode": {
    "name": "ipython",
    "version": 3
   },
   "file_extension": ".py",
   "mimetype": "text/x-python",
   "name": "python",
   "nbconvert_exporter": "python",
   "pygments_lexer": "ipython3",
   "version": "3.11.11"
  }
 },
 "nbformat": 4,
 "nbformat_minor": 2
}
