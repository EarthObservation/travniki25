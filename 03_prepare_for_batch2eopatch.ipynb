{
 "cells": [
  {
   "cell_type": "code",
   "execution_count": null,
   "metadata": {},
   "outputs": [],
   "source": [
    "import datetime as dt\n",
    "import json\n",
    "\n",
    "import boto3\n",
    "from tqdm.auto import tqdm\n",
    "\n",
    "from eolearn.core.utils.fs import get_filesystem"
   ]
  },
  {
   "cell_type": "code",
   "execution_count": 6,
   "metadata": {},
   "outputs": [],
   "source": [
    "# %env AWS_PROFILE dotai.dev\n",
    "import os\n",
    "os.environ[\"AWS_PROFILE\"] = \"batch\""
   ]
  },
  {
   "cell_type": "markdown",
   "metadata": {},
   "source": [
    "### Add date info to userdata.json"
   ]
  },
  {
   "cell_type": "code",
   "execution_count": null,
   "metadata": {},
   "outputs": [],
   "source": [
    "month = 0"
   ]
  },
  {
   "cell_type": "code",
   "execution_count": null,
   "metadata": {},
   "outputs": [],
   "source": [
    "month+=1\n",
    "tiff_identifier = f'2024-{month:02d}'\n",
    "\n",
    "fs = get_filesystem('s3://batch-slo-24/')\n",
    "tiles = fs.listdir(f'tiffs/{tiff_identifier}/')\n",
    "print(month)"
   ]
  },
  {
   "cell_type": "code",
   "execution_count": null,
   "metadata": {},
   "outputs": [],
   "source": [
    "dates_dict = {\"dates\": f'[\"{dt.datetime.strptime(tiff_identifier, \"%Y-%m\").isoformat()}Z\"]'}\n",
    "\n",
    "s3 = boto3.client('s3')\n",
    "prefix = f'batch-slo-24/tiffs/{tiff_identifier}/'\n",
    "for tile in tqdm(tiles):\n",
    "    s3.put_object(Body=json.dumps(dates_dict).encode(), Bucket='batch-slo-24', Key=prefix + f'{tile}/userdata.json')"
   ]
  },
  {
   "cell_type": "code",
   "execution_count": null,
   "metadata": {},
   "outputs": [],
   "source": []
  }
 ],
 "metadata": {
  "kernelspec": {
   "display_name": "eogrow",
   "language": "python",
   "name": "python3"
  },
  "language_info": {
   "codemirror_mode": {
    "name": "ipython",
    "version": 3
   },
   "file_extension": ".py",
   "mimetype": "text/x-python",
   "name": "python",
   "nbconvert_exporter": "python",
   "pygments_lexer": "ipython3",
   "version": "3.11.11"
  }
 },
 "nbformat": 4,
 "nbformat_minor": 2
}
